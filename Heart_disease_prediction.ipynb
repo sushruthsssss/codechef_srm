{
  "nbformat": 4,
  "nbformat_minor": 0,
  "metadata": {
    "colab": {
      "name": "Untitled1.ipynb",
      "provenance": [],
      "authorship_tag": "ABX9TyOfG+rXZKCEd7UykAYY4gDq",
      "include_colab_link": true
    },
    "kernelspec": {
      "name": "python3",
      "display_name": "Python 3"
    }
  },
  "cells": [
    {
      "cell_type": "markdown",
      "metadata": {
        "id": "view-in-github",
        "colab_type": "text"
      },
      "source": [
        "<a href=\"https://colab.research.google.com/github/sushruthsssss/codechef_srm/blob/master/Heart_disease_prediction.ipynb\" target=\"_parent\"><img src=\"https://colab.research.google.com/assets/colab-badge.svg\" alt=\"Open In Colab\"/></a>"
      ]
    },
    {
      "cell_type": "code",
      "metadata": {
        "id": "GTDEo4FRYSc1",
        "colab_type": "code",
        "colab": {}
      },
      "source": [
        ""
      ],
      "execution_count": null,
      "outputs": []
    },
    {
      "cell_type": "markdown",
      "metadata": {
        "id": "7HGLjXEdYXut",
        "colab_type": "text"
      },
      "source": [
        "# New Section"
      ]
    },
    {
      "cell_type": "code",
      "metadata": {
        "id": "A6nJKivUYeFU",
        "colab_type": "code",
        "colab": {}
      },
      "source": [
        "import numpy as np\n",
        "import pandas as pd\n",
        "\n",
        "import seaborn as sns\n",
        "import plotly.express as px\n",
        "import matplotlib.pyplot as plt\n",
        "from sklearn.preprocessing import StandardScaler\n",
        "from sklearn.model_selection import train_test_split\n",
        "from sklearn.metrics import accuracy_score\n",
        "%matplotlib inline\n",
        "import warnings\n",
        "warnings.filterwarnings('ignore')\n"
      ],
      "execution_count": 2,
      "outputs": []
    },
    {
      "cell_type": "code",
      "metadata": {
        "id": "Yo80y3nGsInB",
        "colab_type": "code",
        "colab": {
          "base_uri": "https://localhost:8080/",
          "height": 375
        },
        "outputId": "6e767627-c7e5-4ea3-b96d-2399c9e9db21"
      },
      "source": [
        "input=\"/content/heart_failure_clinical_records_dataset.csv\"\n",
        "data=pd.read_csv(input)\n",
        "df=data.copy()\n",
        "data.head(10)"
      ],
      "execution_count": 3,
      "outputs": [
        {
          "output_type": "execute_result",
          "data": {
            "text/html": [
              "<div>\n",
              "<style scoped>\n",
              "    .dataframe tbody tr th:only-of-type {\n",
              "        vertical-align: middle;\n",
              "    }\n",
              "\n",
              "    .dataframe tbody tr th {\n",
              "        vertical-align: top;\n",
              "    }\n",
              "\n",
              "    .dataframe thead th {\n",
              "        text-align: right;\n",
              "    }\n",
              "</style>\n",
              "<table border=\"1\" class=\"dataframe\">\n",
              "  <thead>\n",
              "    <tr style=\"text-align: right;\">\n",
              "      <th></th>\n",
              "      <th>age</th>\n",
              "      <th>anaemia</th>\n",
              "      <th>creatinine_phosphokinase</th>\n",
              "      <th>diabetes</th>\n",
              "      <th>ejection_fraction</th>\n",
              "      <th>high_blood_pressure</th>\n",
              "      <th>platelets</th>\n",
              "      <th>serum_creatinine</th>\n",
              "      <th>serum_sodium</th>\n",
              "      <th>sex</th>\n",
              "      <th>smoking</th>\n",
              "      <th>time</th>\n",
              "      <th>DEATH_EVENT</th>\n",
              "    </tr>\n",
              "  </thead>\n",
              "  <tbody>\n",
              "    <tr>\n",
              "      <th>0</th>\n",
              "      <td>75.0</td>\n",
              "      <td>0</td>\n",
              "      <td>582</td>\n",
              "      <td>0</td>\n",
              "      <td>20</td>\n",
              "      <td>1</td>\n",
              "      <td>265000.00</td>\n",
              "      <td>1.9</td>\n",
              "      <td>130</td>\n",
              "      <td>1</td>\n",
              "      <td>0</td>\n",
              "      <td>4</td>\n",
              "      <td>1</td>\n",
              "    </tr>\n",
              "    <tr>\n",
              "      <th>1</th>\n",
              "      <td>55.0</td>\n",
              "      <td>0</td>\n",
              "      <td>7861</td>\n",
              "      <td>0</td>\n",
              "      <td>38</td>\n",
              "      <td>0</td>\n",
              "      <td>263358.03</td>\n",
              "      <td>1.1</td>\n",
              "      <td>136</td>\n",
              "      <td>1</td>\n",
              "      <td>0</td>\n",
              "      <td>6</td>\n",
              "      <td>1</td>\n",
              "    </tr>\n",
              "    <tr>\n",
              "      <th>2</th>\n",
              "      <td>65.0</td>\n",
              "      <td>0</td>\n",
              "      <td>146</td>\n",
              "      <td>0</td>\n",
              "      <td>20</td>\n",
              "      <td>0</td>\n",
              "      <td>162000.00</td>\n",
              "      <td>1.3</td>\n",
              "      <td>129</td>\n",
              "      <td>1</td>\n",
              "      <td>1</td>\n",
              "      <td>7</td>\n",
              "      <td>1</td>\n",
              "    </tr>\n",
              "    <tr>\n",
              "      <th>3</th>\n",
              "      <td>50.0</td>\n",
              "      <td>1</td>\n",
              "      <td>111</td>\n",
              "      <td>0</td>\n",
              "      <td>20</td>\n",
              "      <td>0</td>\n",
              "      <td>210000.00</td>\n",
              "      <td>1.9</td>\n",
              "      <td>137</td>\n",
              "      <td>1</td>\n",
              "      <td>0</td>\n",
              "      <td>7</td>\n",
              "      <td>1</td>\n",
              "    </tr>\n",
              "    <tr>\n",
              "      <th>4</th>\n",
              "      <td>65.0</td>\n",
              "      <td>1</td>\n",
              "      <td>160</td>\n",
              "      <td>1</td>\n",
              "      <td>20</td>\n",
              "      <td>0</td>\n",
              "      <td>327000.00</td>\n",
              "      <td>2.7</td>\n",
              "      <td>116</td>\n",
              "      <td>0</td>\n",
              "      <td>0</td>\n",
              "      <td>8</td>\n",
              "      <td>1</td>\n",
              "    </tr>\n",
              "    <tr>\n",
              "      <th>5</th>\n",
              "      <td>90.0</td>\n",
              "      <td>1</td>\n",
              "      <td>47</td>\n",
              "      <td>0</td>\n",
              "      <td>40</td>\n",
              "      <td>1</td>\n",
              "      <td>204000.00</td>\n",
              "      <td>2.1</td>\n",
              "      <td>132</td>\n",
              "      <td>1</td>\n",
              "      <td>1</td>\n",
              "      <td>8</td>\n",
              "      <td>1</td>\n",
              "    </tr>\n",
              "    <tr>\n",
              "      <th>6</th>\n",
              "      <td>75.0</td>\n",
              "      <td>1</td>\n",
              "      <td>246</td>\n",
              "      <td>0</td>\n",
              "      <td>15</td>\n",
              "      <td>0</td>\n",
              "      <td>127000.00</td>\n",
              "      <td>1.2</td>\n",
              "      <td>137</td>\n",
              "      <td>1</td>\n",
              "      <td>0</td>\n",
              "      <td>10</td>\n",
              "      <td>1</td>\n",
              "    </tr>\n",
              "    <tr>\n",
              "      <th>7</th>\n",
              "      <td>60.0</td>\n",
              "      <td>1</td>\n",
              "      <td>315</td>\n",
              "      <td>1</td>\n",
              "      <td>60</td>\n",
              "      <td>0</td>\n",
              "      <td>454000.00</td>\n",
              "      <td>1.1</td>\n",
              "      <td>131</td>\n",
              "      <td>1</td>\n",
              "      <td>1</td>\n",
              "      <td>10</td>\n",
              "      <td>1</td>\n",
              "    </tr>\n",
              "    <tr>\n",
              "      <th>8</th>\n",
              "      <td>65.0</td>\n",
              "      <td>0</td>\n",
              "      <td>157</td>\n",
              "      <td>0</td>\n",
              "      <td>65</td>\n",
              "      <td>0</td>\n",
              "      <td>263358.03</td>\n",
              "      <td>1.5</td>\n",
              "      <td>138</td>\n",
              "      <td>0</td>\n",
              "      <td>0</td>\n",
              "      <td>10</td>\n",
              "      <td>1</td>\n",
              "    </tr>\n",
              "    <tr>\n",
              "      <th>9</th>\n",
              "      <td>80.0</td>\n",
              "      <td>1</td>\n",
              "      <td>123</td>\n",
              "      <td>0</td>\n",
              "      <td>35</td>\n",
              "      <td>1</td>\n",
              "      <td>388000.00</td>\n",
              "      <td>9.4</td>\n",
              "      <td>133</td>\n",
              "      <td>1</td>\n",
              "      <td>1</td>\n",
              "      <td>10</td>\n",
              "      <td>1</td>\n",
              "    </tr>\n",
              "  </tbody>\n",
              "</table>\n",
              "</div>"
            ],
            "text/plain": [
              "    age  anaemia  creatinine_phosphokinase  ...  smoking  time  DEATH_EVENT\n",
              "0  75.0        0                       582  ...        0     4            1\n",
              "1  55.0        0                      7861  ...        0     6            1\n",
              "2  65.0        0                       146  ...        1     7            1\n",
              "3  50.0        1                       111  ...        0     7            1\n",
              "4  65.0        1                       160  ...        0     8            1\n",
              "5  90.0        1                        47  ...        1     8            1\n",
              "6  75.0        1                       246  ...        0    10            1\n",
              "7  60.0        1                       315  ...        1    10            1\n",
              "8  65.0        0                       157  ...        0    10            1\n",
              "9  80.0        1                       123  ...        1    10            1\n",
              "\n",
              "[10 rows x 13 columns]"
            ]
          },
          "metadata": {
            "tags": []
          },
          "execution_count": 3
        }
      ]
    },
    {
      "cell_type": "code",
      "metadata": {
        "id": "_jj6RG-Dsd7_",
        "colab_type": "code",
        "colab": {}
      },
      "source": [
        "df = df[df['ejection_fraction']<70]\n",
        "\n",
        "inp_data = df.drop(data[['DEATH_EVENT']], axis=1)\n",
        "out_data = df[['DEATH_EVENT']]\n",
        "\n",
        "scaler = StandardScaler()\n",
        "inp_data = scaler.fit_transform(inp_data)\n",
        "\n",
        "X_train, X_test, y_train, y_test = train_test_split(inp_data, out_data, test_size=0.2, random_state=42)"
      ],
      "execution_count": 11,
      "outputs": []
    },
    {
      "cell_type": "code",
      "metadata": {
        "id": "mkP4A9CGt67j",
        "colab_type": "code",
        "colab": {}
      },
      "source": [
        "y_train=y_train.to_numpy()\n",
        "y_test=y_test.to_numpy()"
      ],
      "execution_count": 12,
      "outputs": []
    },
    {
      "cell_type": "code",
      "metadata": {
        "id": "Y4QdUoXsuUx9",
        "colab_type": "code",
        "colab": {
          "base_uri": "https://localhost:8080/",
          "height": 87
        },
        "outputId": "5cea8172-99e4-4883-c712-ac4e39cacd42"
      },
      "source": [
        "print(\"X_shape:\",X_train.shape)\n",
        "print(\"X_shape:\",X_test.shape)\n",
        "print(\"X_shape:\",y_train.shape)\n",
        "print(\"X_shape:\",y_test.shape)"
      ],
      "execution_count": 15,
      "outputs": [
        {
          "output_type": "stream",
          "text": [
            "X_shape: (237, 12)\n",
            "X_shape: (60, 12)\n",
            "X_shape: (237, 1)\n",
            "X_shape: (60, 1)\n"
          ],
          "name": "stdout"
        }
      ]
    },
    {
      "cell_type": "code",
      "metadata": {
        "id": "g5KvQSIHu9ej",
        "colab_type": "code",
        "colab": {}
      },
      "source": [
        "def weigth(n_features):\n",
        "  w=np.zeros((1,n_features))\n",
        "  b=0\n",
        "  return w,b"
      ],
      "execution_count": 17,
      "outputs": []
    },
    {
      "cell_type": "code",
      "metadata": {
        "id": "7HUZkBGEvapY",
        "colab_type": "code",
        "colab": {}
      },
      "source": [
        "def sigmoid(result):\n",
        "  final=1/(1+np.exp(-result))\n",
        "  return final"
      ],
      "execution_count": 18,
      "outputs": []
    },
    {
      "cell_type": "code",
      "metadata": {
        "id": "iVEILJ1d1LrQ",
        "colab_type": "code",
        "colab": {}
      },
      "source": [
        "def model_optimize(w,b,X,Y):\n",
        "    m = X.shape[0]\n",
        "    \n",
        "    # prediction\n",
        "    final_result = sigmoid(m)\n",
        "    Y_T = Y.T\n",
        "    cost = (-1/m)*(np.sum((Y_T*np.log(final_result)) + ((1-Y_T)*(np.log(1-final_result)))))\n",
        "    \n",
        "    # gradient calculation\n",
        "    dw = (1/m)*(np.dot(X.T, (final_result-Y.T).T))\n",
        "    db = (1/m)*(np.sum(final_result-Y.T))\n",
        "    \n",
        "    grads = {\n",
        "        \"dw\": dw,\n",
        "        \"db\": db\n",
        "    }\n",
        "    return grads, cost"
      ],
      "execution_count": 40,
      "outputs": []
    },
    {
      "cell_type": "code",
      "metadata": {
        "id": "X7iMDPqavs7O",
        "colab_type": "code",
        "colab": {}
      },
      "source": [
        "def model_predict(w, b, X, Y, learning_rate, no_iterations):\n",
        "    costs = []\n",
        "    for i in range(no_iterations):\n",
        "        grads, cost = model_optimize(w,b,X,Y)\n",
        "        dw = grads[\"dw\"]\n",
        "        db = grads[\"db\"]\n",
        "        #weight update\n",
        "        w = w - (learning_rate * (dw.T))\n",
        "        b = b - (learning_rate * db)\n",
        "        \n",
        "        if (i % 100 == 0):\n",
        "            costs.append(cost)\n",
        "    \n",
        "    #final parameters\n",
        "    coeff = {\"w\": w, \"b\": b}\n",
        "    gradient = {\"dw\": dw, \"db\": db}\n",
        "    \n",
        "    return coeff, gradient, cost"
      ],
      "execution_count": 48,
      "outputs": []
    },
    {
      "cell_type": "code",
      "metadata": {
        "id": "CGzcrGOmxR2b",
        "colab_type": "code",
        "colab": {}
      },
      "source": [
        "def predict(final_pred,m):\n",
        "  y_pred=np.zeros((1,m))\n",
        "  for i in range(final_pred.shape[1]):\n",
        "    if final_pred[0][i]>0.5:\n",
        "      y_pred[0][i]=1\n",
        "  return y_pred"
      ],
      "execution_count": 49,
      "outputs": []
    },
    {
      "cell_type": "code",
      "metadata": {
        "id": "VPAmwJdwxv28",
        "colab_type": "code",
        "colab": {
          "base_uri": "https://localhost:8080/",
          "height": 121
        },
        "outputId": "516fa688-653f-4a9c-fa92-98f025bd7828"
      },
      "source": [
        "#Get number of features\n",
        "n_features = X_train.shape[1]\n",
        "print('Number of Features', n_features)\n",
        "w, b = weigth(n_features)\n",
        "#Gradient Descent\n",
        "coeff, gradient, costs = model_predict(w, b, X_train, y_train, learning_rate=0.0001,no_iterations=4500)\n",
        "#Final prediction\n",
        "w = coeff[\"w\"]\n",
        "b = coeff[\"b\"]\n",
        "print('Optimized weights', w)\n",
        "print('Optimized intercept',b)\n",
        "#\n",
        "final_train_pred = sigmoid(np.dot(w,X_train.T)+b)\n",
        "final_test_pred = sigmoid(np.dot(w,X_test.T)+b)\n",
        "#\n",
        "m_tr =  X_train.shape[0]\n",
        "m_ts =  X_test.shape[0]\n",
        "#\n",
        "y_tr_pred = predict(final_train_pred, m_tr)\n",
        "print('Training Accuracy',accuracy_score(y_tr_pred.T, y_train))\n",
        "#\n",
        "y_ts_pred = predict(final_test_pred, m_ts)\n",
        "print('Test Accuracy',accuracy_score(y_ts_pred.T, y_test))\n",
        "\n"
      ],
      "execution_count": 51,
      "outputs": [
        {
          "output_type": "stream",
          "text": [
            "Number of Features 12\n",
            "Optimized weights [[ 0.06857494  0.01080541  0.00912437  0.01223705 -0.05384381  0.01483599\n",
            "   0.01684062  0.06253752 -0.03054052 -0.00072533  0.00147623 -0.11612092]]\n",
            "Optimized intercept -0.307594936708856\n",
            "Training Accuracy 0.7341772151898734\n",
            "Test Accuracy 0.7333333333333333\n"
          ],
          "name": "stdout"
        }
      ]
    },
    {
      "cell_type": "code",
      "metadata": {
        "id": "5v5V3PhY2aZ8",
        "colab_type": "code",
        "colab": {
          "base_uri": "https://localhost:8080/",
          "height": 69
        },
        "outputId": "fbb87323-3043-43eb-c8bb-3e4efeaf2829"
      },
      "source": [
        "from sklearn.linear_model import LogisticRegression\n",
        "\n",
        "clf = LogisticRegression()\n",
        "\n",
        "clf.fit(X_train, y_train)\n",
        "\n",
        "print (clf.intercept_, clf.coef_)\n",
        "\n",
        "pred = clf.predict(X_test)\n",
        "\n",
        "print ('Accuracy from sk-learn: {0}'.format(clf.score(X_test, y_test)))"
      ],
      "execution_count": 52,
      "outputs": [
        {
          "output_type": "stream",
          "text": [
            "[-1.35974827] [[ 0.69029406  0.0761576   0.18316243  0.20164252 -0.96431745 -0.05342474\n",
            "  -0.08326401  0.44276159 -0.23266348 -0.32211913 -0.06331043 -1.56330289]]\n",
            "Accuracy from sk-learn: 0.7833333333333333\n"
          ],
          "name": "stdout"
        }
      ]
    }
  ]
}